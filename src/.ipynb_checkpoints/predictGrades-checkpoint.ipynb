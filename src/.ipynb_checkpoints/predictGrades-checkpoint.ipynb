{
 "cells": [
  {
   "cell_type": "code",
   "execution_count": 1,
   "metadata": {},
   "outputs": [],
   "source": [
    "import pandas as pd\n",
    "import numpy as np\n",
    "from sklearn.preprocessing import OneHotEncoder\n",
    "from sklearn.linear_model import LinearRegression\n",
    "from sklearn.ensemble import RandomForestRegressor\n",
    "from sklearn.model_selection import cross_validate\n",
    "from sklearn.metrics import mean_squared_error\n",
    "from sklearn.multioutput import RegressorChain"
   ]
  },
  {
   "cell_type": "code",
   "execution_count": 2,
   "metadata": {},
   "outputs": [
    {
     "data": {
      "text/plain": [
       "(552, 97)"
      ]
     },
     "execution_count": 2,
     "metadata": {},
     "output_type": "execute_result"
    }
   ],
   "source": [
    "df = pd.read_csv('../data/student-por.csv', sep=';')\n",
    "df_train = df.sample(frac=0.85,random_state=2020)\n",
    "df_test = df.drop(df_train.index)\n",
    "\n",
    "len(df_train), len(df_test)"
   ]
  },
  {
   "cell_type": "code",
   "execution_count": 3,
   "metadata": {},
   "outputs": [],
   "source": [
    "def encode_features(X, encoder=None):\n",
    "    # One-hot encodes the categorical features \n",
    "    categorical_columns = X.select_dtypes(exclude='number')\n",
    "    numerical_columns = X.select_dtypes(include='number')\n",
    "    categorical_col_names = categorical_columns.columns.tolist()\n",
    "    \n",
    "    if encoder is None:\n",
    "        encoder = OneHotEncoder(sparse=False)\n",
    "\n",
    "    one_hot = encoder.transform(categorical_columns)\n",
    "    categorical_col_names = encoder.get_feature_names(categorical_col_names)\n",
    "    one_hot = pd.DataFrame(one_hot, index=numerical_columns.index, columns=categorical_col_names)\n",
    "    \n",
    "    return pd.concat([numerical_columns, one_hot], axis=1)"
   ]
  },
  {
   "cell_type": "code",
   "execution_count": 4,
   "metadata": {},
   "outputs": [],
   "source": [
    "X_train, y_train = df_train.drop('G3', axis=1), df_train['G3']\n",
    "X_test, y_test = df_test.drop('G3', axis=1), df_test['G3']"
   ]
  },
  {
   "cell_type": "code",
   "execution_count": 5,
   "metadata": {},
   "outputs": [],
   "source": [
    "random_forest = RandomForestRegressor(random_state=42)"
   ]
  },
  {
   "cell_type": "code",
   "execution_count": 6,
   "metadata": {},
   "outputs": [
    {
     "name": "stdout",
     "output_type": "stream",
     "text": [
      "Predicting G3 after dropping G2 and G1, 5-fold validated MSE average: 6.83\n",
      "Predicting G3 after dropping G2, 5-fold validated MSE average: 3.35\n",
      "Predicting G3 after dropping G1, 5-fold validated MSE average: 1.74\n",
      "Predicting G3 after dropping nothing, 5-fold validated MSE average: 1.69\n"
     ]
    }
   ],
   "source": [
    "for drop_vars in [['G2','G1'], ['G2'], ['G1'], []]:\n",
    "    X_train_dropped = X_train.drop(drop_vars, axis =1)\n",
    "    enc = OneHotEncoder(sparse=False).fit(X_train_dropped.select_dtypes(exclude='number'))\n",
    "    X_train_encoded = encode_features(X_train_dropped, enc)\n",
    "    \n",
    "    performance = cross_validate(random_forest, X_train_encoded, \n",
    "                                 y_train, cv=5,  \n",
    "                                 scoring='neg_mean_squared_error')\n",
    "    avg_mse = -performance['test_score'].mean()\n",
    "    \n",
    "    if drop_vars:\n",
    "        print(f'Predicting G3 after dropping {\" and \".join(drop_vars)}, 5-fold validated MSE average: {avg_mse:.2f}')\n",
    "    else:\n",
    "        print(f'Predicting G3 after dropping nothing, 5-fold validated MSE average: {avg_mse:.2f}')"
   ]
  },
  {
   "cell_type": "code",
   "execution_count": 7,
   "metadata": {},
   "outputs": [],
   "source": [
    "# best model(least error) was when G1 and G2 were in model\n",
    "enc = OneHotEncoder(sparse=False).fit(X_train.select_dtypes(exclude='number'))\n",
    "X_train_encoded = encode_features(X_train, enc)\n",
    "X_test_encoded = encode_features(X_test, enc)"
   ]
  },
  {
   "cell_type": "code",
   "execution_count": 8,
   "metadata": {},
   "outputs": [
    {
     "data": {
      "text/plain": [
       "RandomForestRegressor(random_state=42)"
      ]
     },
     "execution_count": 8,
     "metadata": {},
     "output_type": "execute_result"
    }
   ],
   "source": [
    "random_forest.fit(X_train_encoded, y_train)"
   ]
  },
  {
   "cell_type": "code",
   "execution_count": 9,
   "metadata": {},
   "outputs": [
    {
     "data": {
      "text/plain": [
       "3.4523762886597935"
      ]
     },
     "execution_count": 9,
     "metadata": {},
     "output_type": "execute_result"
    }
   ],
   "source": [
    "preds = random_forest.predict(X_test_encoded)\n",
    "mean_squared_error(y_test, preds)"
   ]
  },
  {
   "cell_type": "code",
   "execution_count": 10,
   "metadata": {},
   "outputs": [],
   "source": [
    "X_train, Y_train = df_train.drop(['G3','G2','G1'], axis=1), df_train[['G3','G2','G1']]\n",
    "X_test, Y_test = df_test.drop(['G3','G2','G1'], axis=1), df_test[['G3','G2','G1']]"
   ]
  },
  {
   "cell_type": "code",
   "execution_count": 11,
   "metadata": {},
   "outputs": [],
   "source": [
    "enc = OneHotEncoder(sparse=False).fit(X_train.select_dtypes(exclude='number'))\n",
    "X_train_encoded = encode_features(X_train, enc)\n",
    "X_test_encoded = encode_features(X_test, enc)"
   ]
  },
  {
   "cell_type": "code",
   "execution_count": 13,
   "metadata": {},
   "outputs": [
    {
     "name": "stdout",
     "output_type": "stream",
     "text": [
      "MSE using a chain of Random Forests is 8.054362199312715\n",
      "MSE using a chain of Linear Regressors is 7.5492734251455405\n"
     ]
    }
   ],
   "source": [
    "random_forest = RandomForestRegressor(random_state=42)\n",
    "linear_regressor = LinearRegression()\n",
    "models = [(random_forest, 'Random Forest'), (linear_regressor, 'Linear Regressor')]\n",
    "\n",
    "for model, model_name in models:\n",
    "    chain_model = RegressorChain(model, random_state=5, cv=5)\n",
    "    chain_model.fit(X_train_encoded, Y_train)\n",
    "    chain_preds = chain_model.predict(X_test_encoded)\n",
    "    print(f'MSE using a chain of {model_name}s is {mean_squared_error(Y_test, chain_preds)}')"
   ]
  },
  {
   "cell_type": "code",
   "execution_count": null,
   "metadata": {},
   "outputs": [],
   "source": []
  },
  {
   "cell_type": "code",
   "execution_count": null,
   "metadata": {},
   "outputs": [],
   "source": []
  }
 ],
 "metadata": {
  "kernelspec": {
   "display_name": "Python 3",
   "language": "python",
   "name": "python3"
  },
  "language_info": {
   "codemirror_mode": {
    "name": "ipython",
    "version": 3
   },
   "file_extension": ".py",
   "mimetype": "text/x-python",
   "name": "python",
   "nbconvert_exporter": "python",
   "pygments_lexer": "ipython3",
   "version": "3.7.4"
  }
 },
 "nbformat": 4,
 "nbformat_minor": 2
}
