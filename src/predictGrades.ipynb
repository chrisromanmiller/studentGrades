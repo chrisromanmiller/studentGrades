{
 "cells": [
  {
   "cell_type": "code",
   "execution_count": 148,
   "metadata": {},
   "outputs": [],
   "source": [
    "import pandas as pd\n",
    "import sklearn\n",
    "from sklearn.linear_model import LogisticRegression\n",
    "from sklearn.linear_model import LinearRegression\n",
    "from sklearn.preprocessing import OneHotEncoder\n",
    "import numpy as np"
   ]
  },
  {
   "cell_type": "code",
   "execution_count": 149,
   "metadata": {},
   "outputs": [
    {
     "data": {
      "text/plain": [
       "(552, 97)"
      ]
     },
     "execution_count": 149,
     "metadata": {},
     "output_type": "execute_result"
    }
   ],
   "source": [
    "df = pd.read_csv(\"../data/student-por.csv\", sep = \";\")\n",
    "df_train = df.sample(frac=0.85,random_state=2020)\n",
    "df_test = df.drop(df_train.index)\n",
    "\n",
    "len(df_train), len(df_test)"
   ]
  },
  {
   "cell_type": "code",
   "execution_count": 150,
   "metadata": {},
   "outputs": [],
   "source": [
    "X, y = df_train.drop(\"G3\", axis =1), df_train.G3"
   ]
  },
  {
   "cell_type": "code",
   "execution_count": 151,
   "metadata": {},
   "outputs": [],
   "source": [
    "def encode_features(X, encoder= None):\n",
    "    # One-hot encodes the categorical features \n",
    "    categorical_columns = X.select_dtypes(exclude = \"number\")\n",
    "    numerical_columns = X.select_dtypes(include = \"number\")\n",
    "    \n",
    "    if encoder is None:\n",
    "        encoder = OneHotEncoder(sparse = False).fit(categorical_columns)\n",
    "        \n",
    "    one_hot = enc.transform(categorical_columns)\n",
    "    return pd.concat([numerical_columns, pd.DataFrame(one_hot, index = numerical_columns.index)], axis = 1)\n",
    "\n",
    "\n",
    "\n",
    "enc = OneHotEncoder(sparse = False).fit(X.select_dtypes(exclude = \"number\"))\n",
    "X_encoded = encode_features(X, enc)"
   ]
  },
  {
   "cell_type": "code",
   "execution_count": 152,
   "metadata": {},
   "outputs": [
    {
     "name": "stdout",
     "output_type": "stream",
     "text": [
      "5-fold validated MSE average: 1.44\n"
     ]
    }
   ],
   "source": [
    "# model = LinearRegression().fit(X_encoded,y.astype(float))\n",
    "performance = sklearn.model_selection.cross_validate(LinearRegression(),X_encoded, y, cv = 5,  scoring = \"neg_mean_squared_error\")\n",
    "print(\"5-fold validated MSE average: {:.2f}\".format(-sum(performance['test_score'])/5))\n",
    "\n"
   ]
  }
 ],
 "metadata": {
  "kernelspec": {
   "display_name": "Python 3",
   "language": "python",
   "name": "python3"
  },
  "language_info": {
   "codemirror_mode": {
    "name": "ipython",
    "version": 3
   },
   "file_extension": ".py",
   "mimetype": "text/x-python",
   "name": "python",
   "nbconvert_exporter": "python",
   "pygments_lexer": "ipython3",
   "version": "3.7.3"
  }
 },
 "nbformat": 4,
 "nbformat_minor": 2
}
