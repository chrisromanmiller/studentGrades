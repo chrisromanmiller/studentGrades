{
 "cells": [
  {
   "cell_type": "code",
   "execution_count": 52,
   "metadata": {},
   "outputs": [],
   "source": [
    "import pandas as pd\n",
    "import numpy as np\n",
    "from sklearn.preprocessing import OneHotEncoder\n",
    "from sklearn.ensemble import RandomForestRegressor\n",
    "from sklearn.model_selection import cross_validate"
   ]
  },
  {
   "cell_type": "code",
   "execution_count": 2,
   "metadata": {},
   "outputs": [
    {
     "data": {
      "text/plain": [
       "(552, 97)"
      ]
     },
     "execution_count": 2,
     "metadata": {},
     "output_type": "execute_result"
    }
   ],
   "source": [
    "df = pd.read_csv('../data/student-por.csv', sep=';')\n",
    "df_train = df.sample(frac=0.85,random_state=2020)\n",
    "df_test = df.drop(df_train.index)\n",
    "\n",
    "len(df_train), len(df_test)"
   ]
  },
  {
   "cell_type": "code",
   "execution_count": 38,
   "metadata": {},
   "outputs": [],
   "source": [
    "def encode_features(X, encoder=None):\n",
    "    # One-hot encodes the categorical features \n",
    "    categorical_columns = X.select_dtypes(exclude='number')\n",
    "    numerical_columns = X.select_dtypes(include='number')\n",
    "    categorical_col_names = categorical_columns.columns.tolist()\n",
    "    \n",
    "    if encoder is None:\n",
    "        encoder = OneHotEncoder(sparse=False)\n",
    "\n",
    "    one_hot = encoder.transform(categorical_columns)\n",
    "    categorical_col_names = encoder.get_feature_names(categorical_col_names)\n",
    "    one_hot = pd.DataFrame(one_hot, index=numerical_columns.index, columns=categorical_col_names)\n",
    "    \n",
    "    return pd.concat([numerical_columns, one_hot], axis=1)"
   ]
  },
  {
   "cell_type": "code",
   "execution_count": 62,
   "metadata": {},
   "outputs": [],
   "source": [
    "X_train, y_train = df_train.drop('G3', axis=1), df_train['G3']\n",
    "X_test, y_test = df_test.drop('G3', axis=1), df_train['G3']"
   ]
  },
  {
   "cell_type": "code",
   "execution_count": 46,
   "metadata": {},
   "outputs": [],
   "source": []
  },
  {
   "cell_type": "code",
   "execution_count": 55,
   "metadata": {},
   "outputs": [],
   "source": [
    "model = RandomForestRegressor(random_state=42)"
   ]
  },
  {
   "cell_type": "code",
   "execution_count": 68,
   "metadata": {},
   "outputs": [
    {
     "name": "stdout",
     "output_type": "stream",
     "text": [
      "Predicting G3 after dropping G2 and G1, 5-fold validated MSE average: 6.83\n",
      "Predicting G3 after dropping G2, 5-fold validated MSE average: 3.35\n",
      "Predicting G3 after dropping G1, 5-fold validated MSE average: 1.74\n",
      "Predicting G3 after dropping nothing, 5-fold validated MSE average: 1.69\n"
     ]
    }
   ],
   "source": [
    "for drop_vars in [['G2','G1'], ['G2'], ['G1'], []]:\n",
    "    X_train_dropped = X_train.drop(drop_vars, axis =1)\n",
    "    enc = OneHotEncoder(sparse=False).fit(X_train_dropped.select_dtypes(exclude='number'))\n",
    "    X_train_encoded = encode_features(X_train_dropped, enc)\n",
    "    \n",
    "    performance = cross_validate(model, X_train_encoded, \n",
    "                                 y_train, cv=5,  \n",
    "                                 scoring='neg_mean_squared_error')\n",
    "    avg_mse = -performance['test_score'].mean()\n",
    "    \n",
    "    if drop_vars:\n",
    "        print(f'Predicting G3 after dropping {\" and \".join(drop_vars)}, 5-fold validated MSE average: {avg_mse:.2f}')\n",
    "    else:\n",
    "        print(f'Predicting G3 after dropping nothing, 5-fold validated MSE average: {avg_mse:.2f}')"
   ]
  },
  {
   "cell_type": "code",
   "execution_count": null,
   "metadata": {},
   "outputs": [],
   "source": []
  }
 ],
 "metadata": {
  "kernelspec": {
   "display_name": "Python 3",
   "language": "python",
   "name": "python3"
  },
  "language_info": {
   "codemirror_mode": {
    "name": "ipython",
    "version": 3
   },
   "file_extension": ".py",
   "mimetype": "text/x-python",
   "name": "python",
   "nbconvert_exporter": "python",
   "pygments_lexer": "ipython3",
   "version": "3.7.4"
  }
 },
 "nbformat": 4,
 "nbformat_minor": 2
}
