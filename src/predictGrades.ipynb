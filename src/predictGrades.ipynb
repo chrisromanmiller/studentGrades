{
 "cells": [
  {
   "cell_type": "code",
   "execution_count": 1,
   "metadata": {},
   "outputs": [],
   "source": [
    "import pandas as pd\n",
    "import sklearn\n",
    "from sklearn.linear_model import LogisticRegression\n",
    "from sklearn.linear_model import LinearRegression\n",
    "from sklearn.preprocessing import OneHotEncoder\n",
    "import numpy as np"
   ]
  },
  {
   "cell_type": "code",
   "execution_count": 2,
   "metadata": {},
   "outputs": [
    {
     "data": {
      "text/plain": [
       "(552, 97)"
      ]
     },
     "execution_count": 2,
     "metadata": {},
     "output_type": "execute_result"
    }
   ],
   "source": [
    "df = pd.read_csv(\"../data/student-por.csv\", sep = \";\")\n",
    "df_train = df.sample(frac=0.85,random_state=2020)\n",
    "df_test = df.drop(df_train.index)\n",
    "\n",
    "len(df_train), len(df_test)"
   ]
  },
  {
   "cell_type": "code",
   "execution_count": 3,
   "metadata": {},
   "outputs": [],
   "source": [
    "def encode_features(X, encoder= None):\n",
    "    # One-hot encodes the categorical features \n",
    "    categorical_columns = X.select_dtypes(exclude = \"number\")\n",
    "    numerical_columns = X.select_dtypes(include = \"number\")\n",
    "    \n",
    "    if encoder is None:\n",
    "        encoder = OneHotEncoder(sparse = False).fit(categorical_columns)\n",
    "        \n",
    "    one_hot = enc.transform(categorical_columns)\n",
    "    return pd.concat([numerical_columns, pd.DataFrame(one_hot, index = numerical_columns.index)], axis = 1)"
   ]
  },
  {
   "cell_type": "code",
   "execution_count": 5,
   "metadata": {},
   "outputs": [],
   "source": [
    "enc = OneHotEncoder(sparse = False).fit(X.select_dtypes(exclude = \"number\"))\n",
    "X_encoded = encode_features(X, enc)"
   ]
  },
  {
   "cell_type": "code",
   "execution_count": 23,
   "metadata": {},
   "outputs": [
    {
     "name": "stdout",
     "output_type": "stream",
     "text": [
      "Predicting G3 after dropping G2 and G1, 5-fold validated MSE average: 7.27\n",
      "Predicting G3 after dropping G2, 5-fold validated MSE average: 3.32\n",
      "Predicting G3 after dropping G1, 5-fold validated MSE average: 1.45\n",
      "Predicting G3 after dropping , 5-fold validated MSE average: 1.44\n"
     ]
    }
   ],
   "source": [
    "for drop_vars in [[\"G2\",\"G1\"], [\"G2\"], [\"G1\"], []]:\n",
    "    X, y = df_train.drop(\"G3\", axis =1).drop(drop_vars, axis =1), df_train.G3\n",
    "\n",
    "    X_encoded = encode_features(X, enc)\n",
    "    performance = sklearn.model_selection.cross_validate(LinearRegression(),X_encoded, y, cv = 5,  scoring = \"neg_mean_squared_error\")\n",
    "    if drop_vars is not None:\n",
    "        print(\"Predicting G3 after dropping {}, 5-fold validated MSE average: {:.2f}\".format(\" and \".join(drop_vars),-sum(performance['test_score'])/5))\n",
    "    else:\n",
    "        print(\"Predicting G3 after dropping nothing, 5-fold validated MSE average: {:.2f}\".format(\" and \".join(drop_vars),-sum(performance['test_score'])/5))\n"
   ]
  },
  {
   "cell_type": "code",
   "execution_count": 14,
   "metadata": {},
   "outputs": [
    {
     "data": {
      "text/plain": [
       "[]"
      ]
     },
     "execution_count": 14,
     "metadata": {},
     "output_type": "execute_result"
    }
   ],
   "source": [
    "all_vars[3:4]"
   ]
  },
  {
   "cell_type": "code",
   "execution_count": null,
   "metadata": {},
   "outputs": [],
   "source": []
  }
 ],
 "metadata": {
  "kernelspec": {
   "display_name": "Python 3",
   "language": "python",
   "name": "python3"
  },
  "language_info": {
   "codemirror_mode": {
    "name": "ipython",
    "version": 3
   },
   "file_extension": ".py",
   "mimetype": "text/x-python",
   "name": "python",
   "nbconvert_exporter": "python",
   "pygments_lexer": "ipython3",
   "version": "3.7.3"
  }
 },
 "nbformat": 4,
 "nbformat_minor": 2
}
